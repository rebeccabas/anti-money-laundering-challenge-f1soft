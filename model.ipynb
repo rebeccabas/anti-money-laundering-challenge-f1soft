{
  "cells": [
    {
      "cell_type": "code",
      "execution_count": 1,
      "metadata": {
        "colab": {
          "base_uri": "https://localhost:8080/"
        },
        "id": "9a0RF9myCCxX",
        "outputId": "e9002173-48eb-490c-9547-cb3a904768d1"
      },
      "outputs": [
        {
          "output_type": "stream",
          "name": "stdout",
          "text": [
            "Mounted at /content/drive\n"
          ]
        }
      ],
      "source": [
        "from google.colab import drive\n",
        "drive.mount('/content/drive')"
      ]
    },
    {
      "cell_type": "code",
      "execution_count": 2,
      "metadata": {
        "colab": {
          "base_uri": "https://localhost:8080/"
        },
        "id": "3C4qyNwxCDM_",
        "outputId": "03b6aa3f-bcc7-4063-858a-75035262cf8b"
      },
      "outputs": [
        {
          "output_type": "stream",
          "name": "stdout",
          "text": [
            "Requirement already satisfied: pandas in /usr/local/lib/python3.10/dist-packages (2.2.2)\n",
            "Requirement already satisfied: scikit-learn in /usr/local/lib/python3.10/dist-packages (1.6.0)\n",
            "Requirement already satisfied: numpy>=1.22.4 in /usr/local/lib/python3.10/dist-packages (from pandas) (1.26.4)\n",
            "Requirement already satisfied: python-dateutil>=2.8.2 in /usr/local/lib/python3.10/dist-packages (from pandas) (2.8.2)\n",
            "Requirement already satisfied: pytz>=2020.1 in /usr/local/lib/python3.10/dist-packages (from pandas) (2024.2)\n",
            "Requirement already satisfied: tzdata>=2022.7 in /usr/local/lib/python3.10/dist-packages (from pandas) (2024.2)\n",
            "Requirement already satisfied: scipy>=1.6.0 in /usr/local/lib/python3.10/dist-packages (from scikit-learn) (1.13.1)\n",
            "Requirement already satisfied: joblib>=1.2.0 in /usr/local/lib/python3.10/dist-packages (from scikit-learn) (1.4.2)\n",
            "Requirement already satisfied: threadpoolctl>=3.1.0 in /usr/local/lib/python3.10/dist-packages (from scikit-learn) (3.5.0)\n",
            "Requirement already satisfied: six>=1.5 in /usr/local/lib/python3.10/dist-packages (from python-dateutil>=2.8.2->pandas) (1.17.0)\n"
          ]
        }
      ],
      "source": [
        "!pip install pandas scikit-learn"
      ]
    },
    {
      "cell_type": "code",
      "execution_count": 3,
      "metadata": {
        "colab": {
          "base_uri": "https://localhost:8080/"
        },
        "id": "sANale1-ErRo",
        "outputId": "edfd88ab-6572-4048-d2a7-1a3fa3e191b5"
      },
      "outputs": [
        {
          "output_type": "stream",
          "name": "stdout",
          "text": [
            "Requirement already satisfied: cudf-cu12 in /usr/local/lib/python3.10/dist-packages (24.10.1)\n",
            "Collecting cuml-cu12\n",
            "  Downloading cuml_cu12-24.12.0.tar.gz (2.5 kB)\n",
            "  Installing build dependencies ... \u001b[?25l\u001b[?25hdone\n",
            "  Getting requirements to build wheel ... \u001b[?25l\u001b[?25hdone\n",
            "  Preparing metadata (pyproject.toml) ... \u001b[?25l\u001b[?25hdone\n",
            "Requirement already satisfied: cupy-cuda12x in /usr/local/lib/python3.10/dist-packages (12.2.0)\n",
            "Requirement already satisfied: cachetools in /usr/local/lib/python3.10/dist-packages (from cudf-cu12) (5.5.0)\n",
            "Requirement already satisfied: cuda-python<13.0a0,>=12.0 in /usr/local/lib/python3.10/dist-packages (from cudf-cu12) (12.2.1)\n",
            "Requirement already satisfied: fsspec>=0.6.0 in /usr/local/lib/python3.10/dist-packages (from cudf-cu12) (2024.10.0)\n",
            "Requirement already satisfied: libcudf-cu12==24.10.* in /usr/local/lib/python3.10/dist-packages (from cudf-cu12) (24.10.1)\n",
            "Requirement already satisfied: numba>=0.57 in /usr/local/lib/python3.10/dist-packages (from cudf-cu12) (0.60.0)\n",
            "Requirement already satisfied: numpy<3.0a0,>=1.23 in /usr/local/lib/python3.10/dist-packages (from cudf-cu12) (1.26.4)\n",
            "Requirement already satisfied: nvtx>=0.2.1 in /usr/local/lib/python3.10/dist-packages (from cudf-cu12) (0.2.10)\n",
            "Requirement already satisfied: packaging in /usr/local/lib/python3.10/dist-packages (from cudf-cu12) (24.2)\n",
            "Requirement already satisfied: pandas<2.2.3dev0,>=2.0 in /usr/local/lib/python3.10/dist-packages (from cudf-cu12) (2.2.2)\n",
            "Requirement already satisfied: pyarrow<18.0.0a0,>=14.0.0 in /usr/local/lib/python3.10/dist-packages (from cudf-cu12) (17.0.0)\n",
            "Requirement already satisfied: pylibcudf-cu12==24.10.* in /usr/local/lib/python3.10/dist-packages (from cudf-cu12) (24.10.1)\n",
            "Requirement already satisfied: pynvjitlink-cu12 in /usr/local/lib/python3.10/dist-packages (from cudf-cu12) (0.4.0)\n",
            "Requirement already satisfied: rich in /usr/local/lib/python3.10/dist-packages (from cudf-cu12) (13.9.4)\n",
            "Requirement already satisfied: rmm-cu12==24.10.* in /usr/local/lib/python3.10/dist-packages (from cudf-cu12) (24.10.0)\n",
            "Requirement already satisfied: typing_extensions>=4.0.0 in /usr/local/lib/python3.10/dist-packages (from cudf-cu12) (4.12.2)\n",
            "Collecting cudf-cu12\n",
            "  Downloading cudf_cu12-24.12.0-cp310-cp310-manylinux_2_24_x86_64.manylinux_2_28_x86_64.whl.metadata (6.2 kB)\n",
            "Collecting cuvs-cu12==24.12.* (from cuml-cu12)\n",
            "  Downloading cuvs_cu12-24.12.0.tar.gz (1.0 kB)\n",
            "  Installing build dependencies ... \u001b[?25l\u001b[?25hdone\n",
            "  Getting requirements to build wheel ... \u001b[?25l\u001b[?25hdone\n",
            "  Preparing metadata (pyproject.toml) ... \u001b[?25l\u001b[?25hdone\n",
            "Collecting dask-cuda==24.12.* (from cuml-cu12)\n",
            "  Downloading dask_cuda-24.12.0-py3-none-any.whl.metadata (2.6 kB)\n",
            "Collecting dask-cudf-cu12==24.12.* (from cuml-cu12)\n",
            "  Downloading dask_cudf_cu12-24.12.0-py3-none-any.whl.metadata (4.5 kB)\n",
            "Requirement already satisfied: joblib>=0.11 in /usr/local/lib/python3.10/dist-packages (from cuml-cu12) (1.4.2)\n",
            "Requirement already satisfied: nvidia-cublas-cu12 in /usr/local/lib/python3.10/dist-packages (from cuml-cu12) (12.6.4.1)\n",
            "Requirement already satisfied: nvidia-cufft-cu12 in /usr/local/lib/python3.10/dist-packages (from cuml-cu12) (11.3.0.4)\n",
            "Requirement already satisfied: nvidia-curand-cu12 in /usr/local/lib/python3.10/dist-packages (from cuml-cu12) (10.3.7.77)\n",
            "Requirement already satisfied: nvidia-cusolver-cu12 in /usr/local/lib/python3.10/dist-packages (from cuml-cu12) (11.7.1.2)\n",
            "Requirement already satisfied: nvidia-cusparse-cu12 in /usr/local/lib/python3.10/dist-packages (from cuml-cu12) (12.5.4.2)\n",
            "Collecting pylibraft-cu12==24.12.* (from cuml-cu12)\n",
            "  Downloading pylibraft_cu12-24.12.0.tar.gz (5.6 kB)\n",
            "  Installing build dependencies ... \u001b[?25l\u001b[?25hdone\n",
            "  Getting requirements to build wheel ... \u001b[?25l\u001b[?25hdone\n",
            "  Preparing metadata (pyproject.toml) ... \u001b[?25l\u001b[?25hdone\n",
            "Collecting raft-dask-cu12==24.12.* (from cuml-cu12)\n",
            "  Downloading raft_dask_cu12-24.12.0.tar.gz (5.6 kB)\n",
            "  Installing build dependencies ... \u001b[?25l\u001b[?25hdone\n",
            "  Getting requirements to build wheel ... \u001b[?25l\u001b[?25hdone\n",
            "  Preparing metadata (pyproject.toml) ... \u001b[?25l\u001b[?25hdone\n",
            "Collecting rapids-dask-dependency==24.12.* (from cuml-cu12)\n",
            "  Downloading rapids_dask_dependency-24.12.0-py3-none-any.whl.metadata (3.7 kB)\n",
            "INFO: pip is looking at multiple versions of cuml-cu12 to determine which version is compatible with other requirements. This could take a while.\n",
            "Collecting cuml-cu12\n",
            "  Downloading cuml_cu12-24.10.0.tar.gz (2.4 kB)\n",
            "  Installing build dependencies ... \u001b[?25l\u001b[?25hdone\n",
            "  Getting requirements to build wheel ... \u001b[?25l\u001b[?25hdone\n",
            "  Preparing metadata (pyproject.toml) ... \u001b[?25l\u001b[?25hdone\n",
            "Collecting cuvs-cu12==24.10.* (from cuml-cu12)\n",
            "  Downloading cuvs_cu12-24.10.0.tar.gz (753 bytes)\n",
            "  Installing build dependencies ... \u001b[?25l\u001b[?25hdone\n",
            "  Getting requirements to build wheel ... \u001b[?25l\u001b[?25hdone\n",
            "  Preparing metadata (pyproject.toml) ... \u001b[?25l\u001b[?25hdone\n",
            "Collecting dask-cuda==24.10.* (from cuml-cu12)\n",
            "  Downloading dask_cuda-24.10.0-py3-none-any.whl.metadata (2.6 kB)\n",
            "Collecting dask-cudf-cu12==24.10.* (from cuml-cu12)\n",
            "  Downloading dask_cudf_cu12-24.10.1.tar.gz (2.3 kB)\n",
            "  Installing build dependencies ... \u001b[?25l\u001b[?25hdone\n",
            "  Getting requirements to build wheel ... \u001b[?25l\u001b[?25hdone\n",
            "  Preparing metadata (pyproject.toml) ... \u001b[?25l\u001b[?25hdone\n",
            "Requirement already satisfied: pylibraft-cu12==24.10.* in /usr/local/lib/python3.10/dist-packages (from cuml-cu12) (24.10.0)\n",
            "Collecting raft-dask-cu12==24.10.* (from cuml-cu12)\n",
            "  Downloading raft_dask_cu12-24.10.0.tar.gz (5.8 kB)\n",
            "  Installing build dependencies ... \u001b[?25l\u001b[?25hdone\n",
            "  Getting requirements to build wheel ... \u001b[?25l\u001b[?25hdone\n",
            "  Preparing metadata (pyproject.toml) ... \u001b[?25l\u001b[?25hdone\n",
            "Collecting rapids-dask-dependency==24.10.* (from cuml-cu12)\n",
            "  Downloading rapids_dask_dependency-24.10.0-py3-none-any.whl.metadata (3.7 kB)\n",
            "Requirement already satisfied: scipy>=1.8.0 in /usr/local/lib/python3.10/dist-packages (from cuml-cu12) (1.13.1)\n",
            "Collecting treelite==4.3.0 (from cuml-cu12)\n",
            "  Downloading treelite-4.3.0-py3-none-manylinux2014_x86_64.whl.metadata (1.5 kB)\n",
            "Requirement already satisfied: click>=8.1 in /usr/local/lib/python3.10/dist-packages (from dask-cuda==24.10.*->cuml-cu12) (8.1.7)\n",
            "Collecting pynvml<11.5,>=11.0.0 (from dask-cuda==24.10.*->cuml-cu12)\n",
            "  Downloading pynvml-11.4.1-py3-none-any.whl.metadata (7.7 kB)\n",
            "Collecting zict>=2.0.0 (from dask-cuda==24.10.*->cuml-cu12)\n",
            "  Downloading zict-3.0.0-py2.py3-none-any.whl.metadata (899 bytes)\n",
            "Collecting distributed-ucxx-cu12==0.40.* (from raft-dask-cu12==24.10.*->cuml-cu12)\n",
            "  Downloading distributed_ucxx_cu12-0.40.0.tar.gz (911 bytes)\n",
            "  Installing build dependencies ... \u001b[?25l\u001b[?25hdone\n",
            "  Getting requirements to build wheel ... \u001b[?25l\u001b[?25hdone\n",
            "  Preparing metadata (pyproject.toml) ... \u001b[?25l\u001b[?25hdone\n",
            "Collecting ucx-py-cu12==0.40.* (from raft-dask-cu12==24.10.*->cuml-cu12)\n",
            "  Downloading ucx_py_cu12-0.40.0.tar.gz (1.3 kB)\n",
            "  Installing build dependencies ... \u001b[?25l\u001b[?25hdone\n",
            "  Getting requirements to build wheel ... \u001b[?25l\u001b[?25hdone\n",
            "  Preparing metadata (pyproject.toml) ... \u001b[?25l\u001b[?25hdone\n",
            "Collecting dask==2024.9.0 (from rapids-dask-dependency==24.10.*->cuml-cu12)\n",
            "  Downloading dask-2024.9.0-py3-none-any.whl.metadata (3.7 kB)\n",
            "Collecting distributed==2024.9.0 (from rapids-dask-dependency==24.10.*->cuml-cu12)\n",
            "  Downloading distributed-2024.9.0-py3-none-any.whl.metadata (3.3 kB)\n",
            "Collecting dask-expr==1.1.14 (from rapids-dask-dependency==24.10.*->cuml-cu12)\n",
            "  Downloading dask_expr-1.1.14-py3-none-any.whl.metadata (2.5 kB)\n",
            "Requirement already satisfied: cloudpickle>=3.0.0 in /usr/local/lib/python3.10/dist-packages (from dask==2024.9.0->rapids-dask-dependency==24.10.*->cuml-cu12) (3.1.0)\n",
            "Requirement already satisfied: partd>=1.4.0 in /usr/local/lib/python3.10/dist-packages (from dask==2024.9.0->rapids-dask-dependency==24.10.*->cuml-cu12) (1.4.2)\n",
            "Requirement already satisfied: pyyaml>=5.3.1 in /usr/local/lib/python3.10/dist-packages (from dask==2024.9.0->rapids-dask-dependency==24.10.*->cuml-cu12) (6.0.2)\n",
            "Requirement already satisfied: toolz>=0.10.0 in /usr/local/lib/python3.10/dist-packages (from dask==2024.9.0->rapids-dask-dependency==24.10.*->cuml-cu12) (0.12.1)\n",
            "Requirement already satisfied: importlib-metadata>=4.13.0 in /usr/local/lib/python3.10/dist-packages (from dask==2024.9.0->rapids-dask-dependency==24.10.*->cuml-cu12) (8.5.0)\n",
            "Requirement already satisfied: jinja2>=2.10.3 in /usr/local/lib/python3.10/dist-packages (from distributed==2024.9.0->rapids-dask-dependency==24.10.*->cuml-cu12) (3.1.4)\n",
            "Requirement already satisfied: locket>=1.0.0 in /usr/local/lib/python3.10/dist-packages (from distributed==2024.9.0->rapids-dask-dependency==24.10.*->cuml-cu12) (1.0.0)\n",
            "Requirement already satisfied: msgpack>=1.0.2 in /usr/local/lib/python3.10/dist-packages (from distributed==2024.9.0->rapids-dask-dependency==24.10.*->cuml-cu12) (1.1.0)\n",
            "Requirement already satisfied: psutil>=5.8.0 in /usr/local/lib/python3.10/dist-packages (from distributed==2024.9.0->rapids-dask-dependency==24.10.*->cuml-cu12) (5.9.5)\n",
            "Collecting sortedcontainers>=2.0.5 (from distributed==2024.9.0->rapids-dask-dependency==24.10.*->cuml-cu12)\n",
            "  Downloading sortedcontainers-2.4.0-py2.py3-none-any.whl.metadata (10 kB)\n",
            "Collecting tblib>=1.6.0 (from distributed==2024.9.0->rapids-dask-dependency==24.10.*->cuml-cu12)\n",
            "  Downloading tblib-3.0.0-py3-none-any.whl.metadata (25 kB)\n",
            "Requirement already satisfied: tornado>=6.2.0 in /usr/local/lib/python3.10/dist-packages (from distributed==2024.9.0->rapids-dask-dependency==24.10.*->cuml-cu12) (6.3.3)\n",
            "Requirement already satisfied: urllib3>=1.26.5 in /usr/local/lib/python3.10/dist-packages (from distributed==2024.9.0->rapids-dask-dependency==24.10.*->cuml-cu12) (2.2.3)\n",
            "Collecting ucxx-cu12==0.40.* (from distributed-ucxx-cu12==0.40.*->raft-dask-cu12==24.10.*->cuml-cu12)\n",
            "  Downloading ucxx_cu12-0.40.0.tar.gz (3.1 kB)\n",
            "  Installing build dependencies ... \u001b[?25l\u001b[?25hdone\n",
            "  Getting requirements to build wheel ... \u001b[?25l\u001b[?25hdone\n",
            "  Preparing metadata (pyproject.toml) ... \u001b[?25l\u001b[?25hdone\n",
            "Collecting libucx-cu12<1.18,>=1.15.0 (from ucx-py-cu12==0.40.*->raft-dask-cu12==24.10.*->cuml-cu12)\n",
            "  Downloading libucx_cu12-1.17.0.post1-py3-none-manylinux_2_28_x86_64.whl.metadata (2.9 kB)\n",
            "Collecting libucxx-cu12==0.40.* (from ucxx-cu12==0.40.*->distributed-ucxx-cu12==0.40.*->raft-dask-cu12==24.10.*->cuml-cu12)\n",
            "  Downloading libucxx_cu12-0.40.0.tar.gz (2.9 kB)\n",
            "  Installing build dependencies ... \u001b[?25l\u001b[?25hdone\n",
            "  Getting requirements to build wheel ... \u001b[?25l\u001b[?25hdone\n",
            "  Preparing metadata (pyproject.toml) ... \u001b[?25l\u001b[?25hdone\n",
            "Requirement already satisfied: fastrlock>=0.5 in /usr/local/lib/python3.10/dist-packages (from cupy-cuda12x) (0.8.3)\n",
            "Requirement already satisfied: cython in /usr/local/lib/python3.10/dist-packages (from cuda-python<13.0a0,>=12.0->cudf-cu12) (3.0.11)\n",
            "Requirement already satisfied: llvmlite<0.44,>=0.43.0dev0 in /usr/local/lib/python3.10/dist-packages (from numba>=0.57->cudf-cu12) (0.43.0)\n",
            "Requirement already satisfied: python-dateutil>=2.8.2 in /usr/local/lib/python3.10/dist-packages (from pandas<2.2.3dev0,>=2.0->cudf-cu12) (2.8.2)\n",
            "Requirement already satisfied: pytz>=2020.1 in /usr/local/lib/python3.10/dist-packages (from pandas<2.2.3dev0,>=2.0->cudf-cu12) (2024.2)\n",
            "Requirement already satisfied: tzdata>=2022.7 in /usr/local/lib/python3.10/dist-packages (from pandas<2.2.3dev0,>=2.0->cudf-cu12) (2024.2)\n",
            "Requirement already satisfied: nvidia-nvjitlink-cu12 in /usr/local/lib/python3.10/dist-packages (from nvidia-cufft-cu12->cuml-cu12) (12.6.85)\n",
            "Requirement already satisfied: markdown-it-py>=2.2.0 in /usr/local/lib/python3.10/dist-packages (from rich->cudf-cu12) (3.0.0)\n",
            "Requirement already satisfied: pygments<3.0.0,>=2.13.0 in /usr/local/lib/python3.10/dist-packages (from rich->cudf-cu12) (2.18.0)\n",
            "Requirement already satisfied: mdurl~=0.1 in /usr/local/lib/python3.10/dist-packages (from markdown-it-py>=2.2.0->rich->cudf-cu12) (0.1.2)\n",
            "Requirement already satisfied: six>=1.5 in /usr/local/lib/python3.10/dist-packages (from python-dateutil>=2.8.2->pandas<2.2.3dev0,>=2.0->cudf-cu12) (1.17.0)\n",
            "Requirement already satisfied: zipp>=3.20 in /usr/local/lib/python3.10/dist-packages (from importlib-metadata>=4.13.0->dask==2024.9.0->rapids-dask-dependency==24.10.*->cuml-cu12) (3.21.0)\n",
            "Requirement already satisfied: MarkupSafe>=2.0 in /usr/local/lib/python3.10/dist-packages (from jinja2>=2.10.3->distributed==2024.9.0->rapids-dask-dependency==24.10.*->cuml-cu12) (3.0.2)\n",
            "Downloading dask_cuda-24.10.0-py3-none-any.whl (133 kB)\n",
            "\u001b[2K   \u001b[90m━━━━━━━━━━━━━━━━━━━━━━━━━━━━━━━━━━━━━━━━\u001b[0m \u001b[32m133.2/133.2 kB\u001b[0m \u001b[31m8.9 MB/s\u001b[0m eta \u001b[36m0:00:00\u001b[0m\n",
            "\u001b[?25hDownloading rapids_dask_dependency-24.10.0-py3-none-any.whl (15 kB)\n",
            "Downloading treelite-4.3.0-py3-none-manylinux2014_x86_64.whl (915 kB)\n",
            "\u001b[2K   \u001b[90m━━━━━━━━━━━━━━━━━━━━━━━━━━━━━━━━━━━━━━━━\u001b[0m \u001b[32m916.0/916.0 kB\u001b[0m \u001b[31m39.5 MB/s\u001b[0m eta \u001b[36m0:00:00\u001b[0m\n",
            "\u001b[?25hDownloading dask-2024.9.0-py3-none-any.whl (1.3 MB)\n",
            "\u001b[2K   \u001b[90m━━━━━━━━━━━━━━━━━━━━━━━━━━━━━━━━━━━━━━━━\u001b[0m \u001b[32m1.3/1.3 MB\u001b[0m \u001b[31m54.5 MB/s\u001b[0m eta \u001b[36m0:00:00\u001b[0m\n",
            "\u001b[?25hDownloading dask_expr-1.1.14-py3-none-any.whl (242 kB)\n",
            "\u001b[2K   \u001b[90m━━━━━━━━━━━━━━━━━━━━━━━━━━━━━━━━━━━━━━━━\u001b[0m \u001b[32m242.6/242.6 kB\u001b[0m \u001b[31m21.3 MB/s\u001b[0m eta \u001b[36m0:00:00\u001b[0m\n",
            "\u001b[?25hDownloading distributed-2024.9.0-py3-none-any.whl (1.0 MB)\n",
            "\u001b[2K   \u001b[90m━━━━━━━━━━━━━━━━━━━━━━━━━━━━━━━━━━━━━━━━\u001b[0m \u001b[32m1.0/1.0 MB\u001b[0m \u001b[31m44.7 MB/s\u001b[0m eta \u001b[36m0:00:00\u001b[0m\n",
            "\u001b[?25hDownloading pynvml-11.4.1-py3-none-any.whl (46 kB)\n",
            "\u001b[2K   \u001b[90m━━━━━━━━━━━━━━━━━━━━━━━━━━━━━━━━━━━━━━━━\u001b[0m \u001b[32m47.0/47.0 kB\u001b[0m \u001b[31m4.4 MB/s\u001b[0m eta \u001b[36m0:00:00\u001b[0m\n",
            "\u001b[?25hDownloading zict-3.0.0-py2.py3-none-any.whl (43 kB)\n",
            "\u001b[2K   \u001b[90m━━━━━━━━━━━━━━━━━━━━━━━━━━━━━━━━━━━━━━━━\u001b[0m \u001b[32m43.3/43.3 kB\u001b[0m \u001b[31m3.7 MB/s\u001b[0m eta \u001b[36m0:00:00\u001b[0m\n",
            "\u001b[?25hDownloading libucx_cu12-1.17.0.post1-py3-none-manylinux_2_28_x86_64.whl (26.9 MB)\n",
            "\u001b[2K   \u001b[90m━━━━━━━━━━━━━━━━━━━━━━━━━━━━━━━━━━━━━━━━\u001b[0m \u001b[32m26.9/26.9 MB\u001b[0m \u001b[31m73.6 MB/s\u001b[0m eta \u001b[36m0:00:00\u001b[0m\n",
            "\u001b[?25hDownloading sortedcontainers-2.4.0-py2.py3-none-any.whl (29 kB)\n",
            "Downloading tblib-3.0.0-py3-none-any.whl (12 kB)\n",
            "Building wheels for collected packages: cuml-cu12, cuvs-cu12, dask-cudf-cu12, raft-dask-cu12, distributed-ucxx-cu12, ucx-py-cu12, ucxx-cu12, libucxx-cu12\n",
            "  Building wheel for cuml-cu12 (pyproject.toml) ... \u001b[?25l\u001b[?25hdone\n",
            "  Created wheel for cuml-cu12: filename=cuml_cu12-24.10.0-cp310-cp310-manylinux_2_28_x86_64.whl size=567746029 sha256=0481db8e341da62c1d6baf9a00cd3958f89895006a772c3968d129ef71c2344b\n",
            "  Stored in directory: /root/.cache/pip/wheels/d6/7e/52/9c730a197fe7a847b42e377b1651053e929cd986dcefaeb6fb\n",
            "  Building wheel for cuvs-cu12 (pyproject.toml) ... \u001b[?25l\u001b[?25hdone\n",
            "  Created wheel for cuvs-cu12: filename=cuvs_cu12-24.10.0-cp310-cp310-manylinux_2_28_x86_64.whl size=836594176 sha256=4b619f678c884daa18e584283596f82ebc0541a61e7e01103d464b2e8512e57f\n",
            "  Stored in directory: /root/.cache/pip/wheels/bd/f8/a7/2d25d05c51730db256a90c07c08f5cfebb9064d2886f3f09d7\n",
            "  Building wheel for dask-cudf-cu12 (pyproject.toml) ... \u001b[?25l\u001b[?25hdone\n",
            "  Created wheel for dask-cudf-cu12: filename=dask_cudf_cu12-24.10.1-py3-none-any.whl size=56338 sha256=9f04be126ffc5921298c51d2888572ac0e31ac77a9dd67920ecec1a1b40978e8\n",
            "  Stored in directory: /root/.cache/pip/wheels/b7/05/59/0d55b227cfca7b05a1a5390a984abd3c7bfda2c39511a08ae3\n",
            "  Building wheel for raft-dask-cu12 (pyproject.toml) ... \u001b[?25l\u001b[?25hdone\n",
            "  Created wheel for raft-dask-cu12: filename=raft_dask_cu12-24.10.0-cp310-cp310-manylinux_2_28_x86_64.whl size=196888082 sha256=f17b120ad141411ddd9aac69b3a57536d0d6a7cef3e1ef7efa1048731a24a1cf\n",
            "  Stored in directory: /root/.cache/pip/wheels/0d/3d/79/19c14c1951513997eeb7dd0b327f4a70de78181f52b335c128\n",
            "  Building wheel for distributed-ucxx-cu12 (pyproject.toml) ... \u001b[?25l\u001b[?25hdone\n",
            "  Created wheel for distributed-ucxx-cu12: filename=distributed_ucxx_cu12-0.40.0-py3-none-any.whl size=24337 sha256=07d05b85e8449840e157c35b25131f6b7678ff33c5294d2cafbf7fc9968750be\n",
            "  Stored in directory: /root/.cache/pip/wheels/e9/48/a0/835c7fba8da6a71e6abbdd7df779aa0e6c465c7d5c68f391c0\n",
            "  Building wheel for ucx-py-cu12 (pyproject.toml) ... \u001b[?25l\u001b[?25hdone\n",
            "  Created wheel for ucx-py-cu12: filename=ucx_py_cu12-0.40.0-cp310-cp310-manylinux_2_17_x86_64.manylinux2014_x86_64.manylinux_2_28_x86_64.whl size=2119919 sha256=34fbe2fd09240b9e469e8941b4712d0a01db84dcadd9a328e0975c2aa5d6adf4\n",
            "  Stored in directory: /root/.cache/pip/wheels/42/db/d2/67809dff2438581aeb431f384fd901a24adfc37f643399fcb0\n",
            "  Building wheel for ucxx-cu12 (pyproject.toml) ... \u001b[?25l\u001b[?25hdone\n",
            "  Created wheel for ucxx-cu12: filename=ucxx_cu12-0.40.0-cp310-cp310-manylinux_2_27_x86_64.manylinux_2_28_x86_64.whl size=722738 sha256=3531b1c4d6b016481a5509fad6575b34373c57516f9c5ae51c8a43d5f340d96d\n",
            "  Stored in directory: /root/.cache/pip/wheels/eb/b4/98/533b66ca7ad0a3f84364f990a3ae10bb39a8c9b6382a477da3\n",
            "  Building wheel for libucxx-cu12 (pyproject.toml) ... \u001b[?25l\u001b[?25hdone\n",
            "  Created wheel for libucxx-cu12: filename=libucxx_cu12-0.40.0-py3-none-manylinux_2_24_x86_64.manylinux_2_28_x86_64.whl size=511692 sha256=eb00c16bea61814456a92307f36e7b8b6746c4a04b31a3f28d89bbb4025bc120\n",
            "  Stored in directory: /root/.cache/pip/wheels/4a/69/0c/be88e41cece98cb79823d3a13a8d2d3093b6ae3833f70f24dd\n",
            "Successfully built cuml-cu12 cuvs-cu12 dask-cudf-cu12 raft-dask-cu12 distributed-ucxx-cu12 ucx-py-cu12 ucxx-cu12 libucxx-cu12\n",
            "Installing collected packages: sortedcontainers, zict, tblib, pynvml, libucx-cu12, ucx-py-cu12, treelite, libucxx-cu12, dask, ucxx-cu12, distributed, dask-expr, rapids-dask-dependency, cuvs-cu12, distributed-ucxx-cu12, dask-cudf-cu12, dask-cuda, raft-dask-cu12, cuml-cu12\n",
            "  Attempting uninstall: dask\n",
            "    Found existing installation: dask 2024.10.0\n",
            "    Uninstalling dask-2024.10.0:\n",
            "      Successfully uninstalled dask-2024.10.0\n",
            "Successfully installed cuml-cu12-24.10.0 cuvs-cu12-24.10.0 dask-2024.9.0 dask-cuda-24.10.0 dask-cudf-cu12-24.10.1 dask-expr-1.1.14 distributed-2024.9.0 distributed-ucxx-cu12-0.40.0 libucx-cu12-1.17.0.post1 libucxx-cu12-0.40.0 pynvml-11.4.1 raft-dask-cu12-24.10.0 rapids-dask-dependency-24.10.0 sortedcontainers-2.4.0 tblib-3.0.0 treelite-4.3.0 ucx-py-cu12-0.40.0 ucxx-cu12-0.40.0 zict-3.0.0\n",
            "Mon Jan  6 05:04:29 2025       \n",
            "+---------------------------------------------------------------------------------------+\n",
            "| NVIDIA-SMI 535.104.05             Driver Version: 535.104.05   CUDA Version: 12.2     |\n",
            "|-----------------------------------------+----------------------+----------------------+\n",
            "| GPU  Name                 Persistence-M | Bus-Id        Disp.A | Volatile Uncorr. ECC |\n",
            "| Fan  Temp   Perf          Pwr:Usage/Cap |         Memory-Usage | GPU-Util  Compute M. |\n",
            "|                                         |                      |               MIG M. |\n",
            "|=========================================+======================+======================|\n",
            "|   0  Tesla T4                       Off | 00000000:00:04.0 Off |                    0 |\n",
            "| N/A   56C    P8              12W /  70W |      0MiB / 15360MiB |      0%      Default |\n",
            "|                                         |                      |                  N/A |\n",
            "+-----------------------------------------+----------------------+----------------------+\n",
            "                                                                                         \n",
            "+---------------------------------------------------------------------------------------+\n",
            "| Processes:                                                                            |\n",
            "|  GPU   GI   CI        PID   Type   Process name                            GPU Memory |\n",
            "|        ID   ID                                                             Usage      |\n",
            "|=======================================================================================|\n",
            "|  No running processes found                                                           |\n",
            "+---------------------------------------------------------------------------------------+\n"
          ]
        }
      ],
      "source": [
        "!pip install cudf-cu12 cuml-cu12 cupy-cuda12x\n",
        "!nvidia-smi"
      ]
    },
    {
      "cell_type": "code",
      "execution_count": 4,
      "metadata": {
        "id": "jq-u62bhEu45"
      },
      "outputs": [],
      "source": [
        "import cudf\n",
        "import cupy as cp\n",
        "from sklearn.ensemble import IsolationForest\n",
        "from sklearn.preprocessing import StandardScaler\n",
        "import logging\n",
        "import os\n",
        "from google.colab import drive\n",
        "import numpy as np\n",
        "import pandas as pd"
      ]
    },
    {
      "cell_type": "code",
      "execution_count": 5,
      "metadata": {
        "id": "X22E_ActCIXu"
      },
      "outputs": [],
      "source": [
        "INPUT_PATH = '/content/drive/MyDrive/processed_txn_data.csv'\n",
        "OUTPUT_PATH = '/content/drive/MyDrive/anomalous_transactions.csv'"
      ]
    },
    {
      "cell_type": "code",
      "execution_count": 6,
      "metadata": {
        "id": "ODqWYVhaGjrs"
      },
      "outputs": [],
      "source": [
        "def create_features(df):\n",
        "    \"\"\"Create features using GPU-accelerated operations.\"\"\"\n",
        "\n",
        "    # Convert Date/Time to datetime\n",
        "    df['Date/Time'] = cudf.to_datetime(df['Date/Time'])\n",
        "\n",
        "    # Extract date using correct cuDF datetime properties\n",
        "    # In cuDF we need to use .day, .month, .year separately\n",
        "    df['date_key'] = df['Date/Time'].dt.year * 10000 + \\\n",
        "                     df['Date/Time'].dt.month * 100 + \\\n",
        "                     df['Date/Time'].dt.day\n",
        "\n",
        "    # Pre-calculate groups\n",
        "    sender_groups = df.groupby('From_Account_id')\n",
        "\n",
        "    # Transaction patterns per account using date_key for daily grouping\n",
        "    df['daily_tx_count_sender'] = df.groupby(['From_Account_id', 'date_key'])['amount'].transform('count')\n",
        "    df['daily_tx_volume_sender'] = df.groupby(['From_Account_id', 'date_key'])['amount'].transform('sum')\n",
        "\n",
        "    # Average transaction amount patterns\n",
        "    df['avg_amount_sender'] = sender_groups['amount'].transform('mean')\n",
        "    df['amount_to_avg_ratio'] = df['amount'] / df['avg_amount_sender']\n",
        "\n",
        "    # Receiving patterns\n",
        "    df['receiver_diversity'] = sender_groups['To_Account_id'].transform('nunique')\n",
        "\n",
        "    # Time-based patterns\n",
        "    df['hour'] = df['Date/Time'].dt.hour\n",
        "\n",
        "    # Using cupy for efficient array operations\n",
        "    hours = cp.arange(24)\n",
        "    night_hours = cp.concatenate([cp.arange(5), cp.arange(23, 24)])\n",
        "    df['is_night'] = df['hour'].isin(night_hours.get()).astype('int8')\n",
        "\n",
        "    # Clean up temporary column\n",
        "    df = df.drop('date_key', axis=1)\n",
        "\n",
        "    return df"
      ]
    },
    {
      "cell_type": "code",
      "execution_count": 7,
      "metadata": {
        "id": "B3tYPDLaCd_3"
      },
      "outputs": [],
      "source": [
        "def get_risk_factors(df_gpu):\n",
        "    \"\"\"Identify risk factors using vectorized GPU operations.\"\"\"\n",
        "\n",
        "    # Convert thresholds to GPU arrays\n",
        "    daily_tx_threshold = float(df_gpu['daily_tx_count_sender'].quantile(0.95))\n",
        "    receiver_div_threshold = float(df_gpu['receiver_diversity'].quantile(0.95))\n",
        "\n",
        "    # Initialize empty risk factors column\n",
        "    df_gpu['risk_factors'] = ''\n",
        "\n",
        "    # Apply conditions vectorially\n",
        "    if df_gpu['amount_to_avg_ratio'].gt(3).any():\n",
        "        mask = df_gpu['amount_to_avg_ratio'] > 3\n",
        "        df_gpu.loc[mask, 'risk_factors'] += 'Unusually large transaction amount | '\n",
        "\n",
        "    if df_gpu['daily_tx_count_sender'].gt(daily_tx_threshold).any():\n",
        "        mask = df_gpu['daily_tx_count_sender'] > daily_tx_threshold\n",
        "        df_gpu.loc[mask, 'risk_factors'] += 'High daily transaction frequency | '\n",
        "\n",
        "    if df_gpu['is_night'].eq(1).any():\n",
        "        mask = df_gpu['is_night'] == 1\n",
        "        df_gpu.loc[mask, 'risk_factors'] += 'Transaction during unusual hours | '\n",
        "\n",
        "    if df_gpu['receiver_diversity'].gt(receiver_div_threshold).any():\n",
        "        mask = df_gpu['receiver_diversity'] > receiver_div_threshold\n",
        "        df_gpu.loc[mask, 'risk_factors'] += 'Unusually high number of receivers | '\n",
        "\n",
        "    # Clean up risk factors string\n",
        "    df_gpu['risk_factors'] = df_gpu['risk_factors'].str.rstrip(' | ')\n",
        "    df_gpu.loc[df_gpu['risk_factors'] == '', 'risk_factors'] = 'Unknown'\n",
        "\n",
        "    return df_gpu"
      ]
    },
    {
      "cell_type": "code",
      "execution_count": 8,
      "metadata": {
        "colab": {
          "base_uri": "https://localhost:8080/"
        },
        "id": "T5BetuCZGJgQ",
        "outputId": "69bfcbcc-9965-4c8c-c21e-362d5aa5fbdb"
      },
      "outputs": [
        {
          "output_type": "stream",
          "name": "stdout",
          "text": [
            "Loading transaction data to GPU...\n",
            "Creating features for anomaly detection...\n",
            "Scaling features...\n",
            "Training Isolation Forest...\n",
            "Found 366898 anomalous transactions out of 3668976 total transactions\n",
            "\n",
            "Distribution of transactions:\n",
            "is_anomaly\n",
            "False    3302078\n",
            "True      366898\n",
            "Name: count, dtype: int64\n"
          ]
        }
      ],
      "source": [
        "def detect_anomalies(input_csv=INPUT_PATH, output_csv=OUTPUT_PATH):\n",
        "    \"\"\"Hybrid GPU-CPU anomaly detection.\"\"\"\n",
        "\n",
        "    print(\"Loading transaction data to GPU...\")\n",
        "    df_gpu = cudf.read_csv(input_csv)\n",
        "\n",
        "    print(\"Creating features for anomaly detection...\")\n",
        "    df_features = create_features(df_gpu)\n",
        "\n",
        "    feature_columns = [\n",
        "        'amount',\n",
        "        'daily_tx_count_sender',\n",
        "        'daily_tx_volume_sender',\n",
        "        'avg_amount_sender',\n",
        "        'amount_to_avg_ratio',\n",
        "        'receiver_diversity',\n",
        "        'hour',\n",
        "        'is_night'\n",
        "    ]\n",
        "\n",
        "    # Convert to numpy for sklearn\n",
        "    X = df_features[feature_columns].to_pandas().values\n",
        "\n",
        "    # Scale features\n",
        "    print(\"Scaling features...\")\n",
        "    scaler = StandardScaler()\n",
        "    X_scaled = scaler.fit_transform(X)\n",
        "\n",
        "    print(\"Training Isolation Forest...\")\n",
        "    iso_forest = IsolationForest(\n",
        "        contamination=0.1,\n",
        "        random_state=42,\n",
        "        n_estimators=100,\n",
        "        max_samples='auto',\n",
        "        n_jobs=-1  # Use all CPU cores\n",
        "    )\n",
        "\n",
        "    # Fit and predict\n",
        "    predictions = iso_forest.fit_predict(X_scaled)\n",
        "    anomaly_scores = iso_forest.score_samples(X_scaled)\n",
        "\n",
        "    # Add predictions and scores to dataframe\n",
        "    df_features['is_anomaly'] = predictions == -1\n",
        "    df_features['anomaly_score'] = anomaly_scores\n",
        "\n",
        "    # Create labeled dataframe with all transactions\n",
        "    all_transactions_df = df_features.copy()\n",
        "\n",
        "    # Add risk factors for all transactions\n",
        "    all_transactions_df = get_risk_factors(all_transactions_df)\n",
        "\n",
        "    # Sort by anomaly score\n",
        "    all_transactions_df = all_transactions_df.sort_values('anomaly_score', ascending=True)\n",
        "\n",
        "    # Filter anomalous transactions for saving to CSV\n",
        "    anomalous_df = all_transactions_df[all_transactions_df['is_anomaly']].copy()\n",
        "\n",
        "    print(f\"Found {len(anomalous_df)} anomalous transactions out of {len(all_transactions_df)} total transactions\")\n",
        "\n",
        "    # Save anomalous results\n",
        "    columns_to_save = [\n",
        "        'Date/Time', 'From_Account_id', 'To_Account_id', 'amount',\n",
        "        'anomaly_score', 'risk_factors', 'is_anomaly'\n",
        "    ]\n",
        "\n",
        "    # Convert to pandas for saving\n",
        "    anomalous_df[columns_to_save].to_pandas().to_csv(output_csv, index=False)\n",
        "\n",
        "    # Return both dataframes\n",
        "    return all_transactions_df, anomalous_df\n",
        "\n",
        "all_transactions, anomalous_transactions = detect_anomalies()\n",
        "print(\"\\nDistribution of transactions:\")\n",
        "print(all_transactions['is_anomaly'].value_counts().to_pandas())\n",
        "\n",
        "# Access normal transactions if needed:\n",
        "normal_transactions = all_transactions[~all_transactions['is_anomaly']]"
      ]
    },
    {
      "cell_type": "code",
      "execution_count": 9,
      "metadata": {
        "id": "6mz-1bZQIMei"
      },
      "outputs": [],
      "source": [
        "output_file = '/content/drive/MyDrive/anomalous_df.csv'"
      ]
    },
    {
      "cell_type": "code",
      "execution_count": 10,
      "metadata": {
        "colab": {
          "base_uri": "https://localhost:8080/"
        },
        "id": "HM9SQehPI_fq",
        "outputId": "b7171c8d-b92d-45e2-d94c-66dbc1404cc4"
      },
      "outputs": [
        {
          "output_type": "stream",
          "name": "stdout",
          "text": [
            "Saved anomalous transactions to /content/drive/MyDrive/anomalous_df.csv\n"
          ]
        }
      ],
      "source": [
        "print(f\"Saved anomalous transactions to {output_file}\")"
      ]
    },
    {
      "cell_type": "code",
      "execution_count": 11,
      "metadata": {
        "id": "-BokYddcJEF1"
      },
      "outputs": [],
      "source": [
        "output_file = '/content/drive/MyDrive/all_transactionsdf.csv'"
      ]
    },
    {
      "cell_type": "code",
      "execution_count": 11,
      "metadata": {
        "id": "bPXq5XfSJOae"
      },
      "outputs": [],
      "source": []
    }
  ],
  "metadata": {
    "accelerator": "GPU",
    "colab": {
      "gpuType": "T4",
      "provenance": []
    },
    "kernelspec": {
      "display_name": "Python 3",
      "name": "python3"
    },
    "language_info": {
      "name": "python"
    }
  },
  "nbformat": 4,
  "nbformat_minor": 0
}